{
  "cells": [
    {
      "cell_type": "markdown",
      "metadata": {
        "id": "dYCFhSKN1U8f"
      },
      "source": [
        "# Data loading and initializations"
      ]
    },
    {
      "cell_type": "code",
      "execution_count": 2,
      "metadata": {
        "id": "S2KYuyn5-wdy"
      },
      "outputs": [],
      "source": [
        "\n",
        "# Xception or VGG19\n",
        "APPLICATION                   = 'VGG19'\n",
        "\n",
        "# to be modified as required in the execution\n",
        "# I used 0 and 123 to test my results\n",
        "RANDOM_STATE                  = 0\n",
        "\n",
        "USE_GOOGLE_DRIVE_FOR_FILES    = True\n",
        "DATA_FOLDER_PATH              = \"/content/drive/My Drive/Data Science/BGU/Machine Learning/Assignments/3/Data\"\n",
        "\n",
        "# name of the folder in the data folder, in which the images are stored.\n",
        "# when using googel drive, a folder with the same name will be created locally.\n",
        "# all images are in the format image_<5 chars number>.jpg (e.g: image_00123.jpg)\n",
        "IMAGES_FOLDER_NAME            = '102-jpg'\n",
        "\n",
        "# for debug only. leave empty if not in debug mode.\n",
        "# in debug mode the results will be saved to SAVE_PATH.\n",
        "RUN_NUMBER                    = \"1007\"\n",
        "SAVE_PATH                     = \"/content/drive/MyDrive/Data Science/BGU/Machine Learning/Assignments/3/model_files\"\n"
      ]
    },
    {
      "cell_type": "code",
      "execution_count": 3,
      "metadata": {
        "colab": {
          "base_uri": "https://localhost:8080/"
        },
        "id": "htXPO-fVqr0w",
        "outputId": "fd671fa5-96dd-44c6-f9e5-97937860a919"
      },
      "outputs": [
        {
          "output_type": "stream",
          "name": "stdout",
          "text": [
            "Drive already mounted at /content/drive; to attempt to forcibly remount, call drive.mount(\"/content/drive\", force_remount=True).\n"
          ]
        }
      ],
      "source": [
        "from tensorflow.keras.preprocessing           import image\n",
        "from tensorflow.keras.optimizers              import Adam\n",
        "from keras                                    import Input, Sequential\n",
        "from keras.applications.vgg19                 import VGG19, preprocess_input, decode_predictions\n",
        "from tensorflow.keras.applications.xception   import Xception\n",
        "from keras.callbacks                          import EarlyStopping, ModelCheckpoint, ReduceLROnPlateau, Callback\n",
        "from keras.layers                             import GlobalAveragePooling2D, Dense, BatchNormalization, Dropout, Activation\n",
        "from keras.models                             import Model, load_model\n",
        "from sklearn.preprocessing                    import label_binarize\n",
        "from sklearn.model_selection                  import train_test_split\n",
        "import matplotlib.pyplot as plt\n",
        "import pandas as pd\n",
        "import numpy as np\n",
        "import json\n",
        "import os\n",
        "\n",
        "if APPLICATION == 'Xception':\n",
        "  image_size = 299\n",
        "elif APPLICATION == 'VGG19':\n",
        "  # original is 224, but I get a higher accuracy with 299\n",
        "  image_size = 299\n",
        "else:\n",
        "  raise ValueError(f'APPLICATION {APPLICATION} undefined')\n",
        "\n",
        "if USE_GOOGLE_DRIVE_FOR_FILES:\n",
        "  from google.colab import drive\n",
        "  drive.mount('/content/drive')\n",
        "\n",
        "# Load labels\n",
        "df_y = pd.read_csv(f\"{DATA_FOLDER_PATH}/102Flowers_labels.csv\")\n",
        "\n",
        "# Load class dictionary\n",
        "with open(f\"{DATA_FOLDER_PATH}/classes_dictionary.txt\", 'r') as f:\n",
        "  classes_dictionary_str = json.loads(f.read())\n",
        "\n",
        "# convert classes from str to int\n",
        "classes_dictionary = {}\n",
        "for k in classes_dictionary_str.keys():\n",
        "  classes_dictionary[int(k)] = classes_dictionary_str[k]\n",
        "\n",
        "# load the files locally\n",
        "if USE_GOOGLE_DRIVE_FOR_FILES and not os.path.exists(IMAGES_FOLDER_NAME):\n",
        "  os.mkdir(IMAGES_FOLDER_NAME)\n",
        "\n",
        "if RUN_NUMBER:\n",
        "  \n",
        "  save_results = True\n",
        "\n",
        "  # folder to store files\n",
        "  if not os.path.exists(f'{SAVE_PATH}/{RUN_NUMBER}'):\n",
        "    os.mkdir(f\"{SAVE_PATH}/{RUN_NUMBER}\")\n"
      ]
    },
    {
      "cell_type": "code",
      "source": [
        "\n",
        "if USE_GOOGLE_DRIVE_FOR_FILES:\n",
        "  print(\"Loading images from drive and saving locally...\")\n",
        "  i=0\n",
        "  for filename in os.listdir(f\"{DATA_FOLDER_PATH}/{IMAGES_FOLDER_NAME}\"):\n",
        "    with open(f\"{DATA_FOLDER_PATH}/{IMAGES_FOLDER_NAME}/\"+filename, 'rb') as f:\n",
        "      with open (f'{IMAGES_FOLDER_NAME}/{filename}', 'wb') as fw:\n",
        "        fw.write(f.read())\n",
        "        i+=1\n",
        "        if i%1000 == 0:\n",
        "          print(i, end=', ')\n",
        "  print(i)\n"
      ],
      "metadata": {
        "colab": {
          "base_uri": "https://localhost:8080/"
        },
        "id": "7PbLN4tWgSKu",
        "outputId": "77f41a3e-2f8a-4153-cf63-bb43d735c0ed"
      },
      "execution_count": 12,
      "outputs": [
        {
          "output_type": "stream",
          "name": "stdout",
          "text": [
            "Loading images from drive and saving locally...\n",
            "1000, 2000, 3000, 4000, 5000, 6000, 7000, 8000, 8189\n"
          ]
        }
      ]
    },
    {
      "cell_type": "code",
      "execution_count": 4,
      "metadata": {
        "colab": {
          "base_uri": "https://localhost:8080/"
        },
        "id": "5BlBtqp2Xk4q",
        "outputId": "ed29b8d4-c9fa-40b3-c4fa-1be221babc11"
      },
      "outputs": [
        {
          "output_type": "stream",
          "name": "stdout",
          "text": [
            "Loading images to variable X...\n",
            "0, 1000, 2000, 3000, 4000, 5000, 6000, 7000, 8000, 8188\n"
          ]
        }
      ],
      "source": [
        "\n",
        "print(\"Loading images to variable X...\")\n",
        "X = []\n",
        "for i in range(len(df_y)):\n",
        "  img = image.load_img(f'{IMAGES_FOLDER_NAME}/image_{str(i+1).zfill(5)}.jpg', target_size=(image_size,image_size))\n",
        "  X.append(image.img_to_array(img))\n",
        "  if i%1000 == 0:\n",
        "    print(i, end=', ')\n",
        "print(i)"
      ]
    },
    {
      "cell_type": "code",
      "source": [
        "# For traceability and logging, the IDs of the test will be saved.\n",
        "# Therefore the train/validation/test splits will be done on the IDs, not the data itself.\n",
        "\n",
        "X_ids_for_split = pd.DataFrame({'ID':np.arange(len(X))})\n",
        "y = df_y['y']\n",
        "\n",
        "# wrong label in the data\n",
        "y[7592]=96\n",
        "\n",
        "# Split: 50% train, 25% validation, 25% test\n",
        "\n",
        "X_temp, X_test_ids_for_split, y_temp, y_test = train_test_split(\n",
        "    X_ids_for_split, y, test_size=0.25, random_state=RANDOM_STATE, stratify=y)\n",
        "\n",
        "X_train_ids_for_split, X_valid_ids_for_split, y_train, y_valid = train_test_split(\n",
        "    X_temp, y_temp, test_size=0.3333, random_state=RANDOM_STATE, stratify=y_temp)\n",
        "\n",
        "\n",
        "X_test = [X[i] for i in list(X_test_ids_for_split['ID'])]\n",
        "X_valid = [X[i] for i in list(X_valid_ids_for_split['ID'])]\n",
        "X_train = [X[i] for i in list(X_train_ids_for_split['ID'])]\n",
        "\n",
        "# save test IDs for debug\n",
        "if save_results:\n",
        "  X_test_ids_for_split.to_csv(f'{SAVE_PATH}/{RUN_NUMBER}/X_test_IDs.csv')\n",
        "\n",
        "\n",
        "X_test = np.array(X_test)\n",
        "X_valid = np.array(X_valid)\n",
        "X_train = np.array(X_train)\n",
        "\n",
        "classes = list(classes_dictionary.keys())\n",
        "classes.sort()\n",
        "\n",
        "y_test = label_binarize(np.array(y_test), classes = classes)\n",
        "y_valid = label_binarize(np.array(y_valid), classes = classes)\n",
        "y_train = label_binarize(np.array(y_train), classes = classes)\n"
      ],
      "metadata": {
        "id": "nVL7coZCoWud"
      },
      "execution_count": 5,
      "outputs": []
    },
    {
      "cell_type": "code",
      "source": [
        "# free up memory\n",
        "del X\n",
        "del X_temp\n",
        "del X_ids_for_split\n",
        "del X_train_ids_for_split\n",
        "del X_valid_ids_for_split\n",
        "del X_test_ids_for_split\n",
        "del df_y\n",
        "del y_temp\n",
        "del y\n"
      ],
      "metadata": {
        "id": "gh0WdrhP7bJv"
      },
      "execution_count": 6,
      "outputs": []
    },
    {
      "cell_type": "markdown",
      "metadata": {
        "id": "VQ4gq58G1ppu"
      },
      "source": [
        "# Transfer learning model"
      ]
    },
    {
      "cell_type": "code",
      "execution_count": 7,
      "metadata": {
        "id": "eRm57T2pNPzg"
      },
      "outputs": [],
      "source": [
        "\n",
        "if APPLICATION == 'Xception':\n",
        "\n",
        "  # Xception weights requires that input be scaled from (0, 255) to a range of (-1., +1.)\n",
        "  X_test = X_test / 127.5 - 1.\n",
        "  X_valid = X_valid / 127.5 - 1.\n",
        "  X_train = X_train / 127.5 - 1.\n",
        "\n",
        "elif APPLICATION == 'VGG19':\n",
        "\n",
        "  # subtracting the mean RGB value, computed on the training set, from each pixel\n",
        "  X_test = preprocess_input(X_test)\n",
        "  X_valid = preprocess_input(X_valid)\n",
        "  X_train = preprocess_input(X_train)\n"
      ]
    },
    {
      "cell_type": "code",
      "source": [
        "# short run params\n",
        "\n",
        "# num_epochs = 30\n",
        "# learning_rate = 1 * 1e-3\n",
        "# early_stopping_patience = 4\n",
        "# early_stopping_min_delta = 0.003\n",
        "\n",
        "# long run params\n",
        "num_epochs = 120\n",
        "learning_rate = 1e-4\n",
        "\n",
        "optimizer = Adam(learning_rate=learning_rate) \n",
        "\n",
        "model_file_prefix = f'{SAVE_PATH}/{RUN_NUMBER}/{RANDOM_STATE}' \n",
        "\n",
        "# callback 1: early stopping (for short runs)\n",
        "#es = EarlyStopping(monitor='val_loss', patience=early_stopping_patience, min_delta=early_stopping_min_delta, verbose=1)\n",
        "\n",
        "# callback 2: model checkpoint\n",
        "cp = ModelCheckpoint(filepath=model_file_prefix + '_best_model.h5', mode='max', monitor='val_accuracy', save_best_only=True, verbose=1)\n",
        "\n",
        "# callback 3: reduce learning rate on plateau. all values are default except verbose.\n",
        "reduce_lr = ReduceLROnPlateau(monitor=\"val_loss\",\n",
        "                              factor=0.1,\n",
        "                              patience=10,\n",
        "                              verbose=1,\n",
        "                              mode=\"auto\",\n",
        "                              min_delta=0.0001,\n",
        "                              cooldown=0,\n",
        "                              min_lr=0\n",
        "                              )\n",
        "\n",
        "# For fitting few times in a sequence, use validation_data = (X_valid, y_valid), otherwise use validation_split. Here I use it like that for control and debugging\n",
        "validation_data = (X_valid, y_valid)\n",
        "\n",
        "# include_top=False --> get the outputs of the convolution layers, before the FC layers\n",
        "if APPLICATION == 'Xception':\n",
        "\n",
        "  base_model = Xception(input_shape=[image_size, image_size, 3], weights='imagenet', include_top=False)\n",
        "\n",
        "  base_model.trainable = False\n",
        "\n",
        "  inputs = Input(shape=(image_size, image_size, 3))\n",
        "\n",
        "  o = base_model(inputs, training=False)\n",
        "  o = GlobalAveragePooling2D()(o)\n",
        "  o = Dense(512)(o)\n",
        "  o = BatchNormalization()(o)\n",
        "  o = Activation('relu')(o)\n",
        "  o = Dropout(rate=0.3, seed=RANDOM_STATE)(o)\n",
        "\n",
        "elif APPLICATION == 'VGG19':\n",
        "\n",
        "  base_model = VGG19(input_shape=[image_size, image_size, 3], weights='imagenet', include_top=False)\n",
        "\n",
        "  base_model.trainable = False\n",
        "\n",
        "  inputs = Input(shape=(image_size, image_size, 3))\n",
        "\n",
        "  o = base_model(inputs, training=False)\n",
        "  o = GlobalAveragePooling2D()(o)\n",
        "  o = Dense(1024)(o)\n",
        "  o = BatchNormalization()(o)\n",
        "  o = Activation('relu')(o)\n",
        "  o = Dropout(rate=0.3, seed=RANDOM_STATE)(o)\n",
        "  \n",
        "\n",
        "\n",
        "predictions = Dense(len(classes_dictionary), activation='softmax')(o)\n",
        "\n",
        "model = Model(inputs=inputs, outputs=predictions)\n",
        "\n",
        "model.compile(optimizer=optimizer,  loss='categorical_crossentropy', metrics=[\"accuracy\"])\n",
        "\n"
      ],
      "metadata": {
        "id": "crRoSWpJBGMs"
      },
      "execution_count": 8,
      "outputs": []
    },
    {
      "cell_type": "code",
      "source": [
        "# free up some memory\n",
        "del X_valid\n",
        "del y_valid"
      ],
      "metadata": {
        "id": "mRSCMytz7CSm"
      },
      "execution_count": 9,
      "outputs": []
    },
    {
      "cell_type": "code",
      "source": [
        "history_test={'test_loss': [], 'test_accuracy': []}\n",
        "\n",
        "class EvaluateEpochEnd(Callback):\n",
        "    def __init__(self, test_data):\n",
        "        self.test_data = test_data\n",
        "\n",
        "    def on_epoch_end(self, epoch, logs={}):\n",
        "        #super().on_epoch_end(epoch, logs)\n",
        "        x, y = self.test_data\n",
        "        scores = self.model.evaluate(x, y, verbose=False)\n",
        "        history_test['test_loss'].append(scores[0])\n",
        "        history_test['test_accuracy'].append(scores[1])\n",
        "        print('\\nTesting loss: {}, accuracy: {}\\n'.format(scores[0], scores[1]))\n",
        "\n",
        "class EpochModelCheckpoint(ModelCheckpoint):\n",
        "\n",
        "    def __init__(self,\n",
        "                 filepath,\n",
        "                 frequency=1,\n",
        "                 monitor='val_loss',\n",
        "                 verbose=0,\n",
        "                 save_best_only=False,\n",
        "                 save_weights_only=False,\n",
        "                 mode='auto',\n",
        "                 options=None,\n",
        "                 **kwargs):\n",
        "        super(EpochModelCheckpoint, self).__init__(filepath, monitor, verbose, save_best_only, save_weights_only,\n",
        "                                                   mode, \"epoch\", options)\n",
        "        self.epochs_since_last_save = 0\n",
        "        self.frequency = frequency\n",
        "\n",
        "    def on_epoch_end(self, epoch, logs=None):\n",
        "        self.epochs_since_last_save += 1\n",
        "        # pylint: disable=protected-access\n",
        "        if self.epochs_since_last_save % self.frequency == 0:\n",
        "            self._save_model(epoch=epoch, batch=None, logs=logs)\n",
        "\n",
        "    def on_train_batch_end(self, batch, logs=None):\n",
        "        pass"
      ],
      "metadata": {
        "id": "cfBZbLrNxgxy"
      },
      "execution_count": 10,
      "outputs": []
    },
    {
      "cell_type": "code",
      "source": [
        "# due to the size of the tensors, the call below fails (out of memory) when it tries to run the callback EvaluateEpochEnd.\n",
        "#history = model.fit(x=X_train, y=y_train, epochs=num_epochs, validation_data=validation_data, callbacks=[cp, reduce_lr, EvaluateEpochEnd((X_test, y_test))])\n",
        "\n",
        "# ALTERNATIVE: therefore I used another callback that saves the model every 10 epochs. I calculate the test loss and accuracy on these checkpoints after the run is finished.\n",
        "history = model.fit(x=X_train, y=y_train, epochs=num_epochs, validation_data=validation_data, callbacks=[cp, reduce_lr, EpochModelCheckpoint(model_file_prefix + '_epoch_{epoch:03d}.h5', frequency=10)])\n",
        "\n",
        "\n",
        "#short:\n",
        "#history = model.fit(x=X_train, y=y_train, epochs=num_epochs, validation_data=validation_data, callbacks=[cp, es])\n",
        "\n",
        "\n",
        "# print all the run history, that can be used later on for the graphs\n",
        "print(\"RUN HISTORY:\\n\")\n",
        "print(history.history.keys())\n",
        "print(history.history.values())"
      ],
      "metadata": {
        "colab": {
          "base_uri": "https://localhost:8080/"
        },
        "id": "gN4LKzJR6rqR",
        "outputId": "dfa7e6b0-1982-4ace-fbb4-d8af09ea52bb"
      },
      "execution_count": 11,
      "outputs": [
        {
          "output_type": "stream",
          "name": "stdout",
          "text": [
            "Epoch 1/120\n",
            "128/128 [==============================] - ETA: 0s - loss: 4.0027 - accuracy: 0.1558\n",
            "Epoch 1: val_accuracy improved from -inf to 0.38984, saving model to /content/drive/MyDrive/Data Science/BGU/Machine Learning/Assignments/3/model_files/1007/0_best_model.h5\n",
            "128/128 [==============================] - 44s 297ms/step - loss: 4.0027 - accuracy: 0.1558 - val_loss: 2.7548 - val_accuracy: 0.3898 - lr: 1.0000e-04\n",
            "Epoch 2/120\n",
            "128/128 [==============================] - ETA: 0s - loss: 2.3568 - accuracy: 0.4985\n",
            "Epoch 2: val_accuracy improved from 0.38984 to 0.63556, saving model to /content/drive/MyDrive/Data Science/BGU/Machine Learning/Assignments/3/model_files/1007/0_best_model.h5\n",
            "128/128 [==============================] - 32s 255ms/step - loss: 2.3568 - accuracy: 0.4985 - val_loss: 1.8699 - val_accuracy: 0.6356 - lr: 1.0000e-04\n",
            "Epoch 3/120\n",
            "128/128 [==============================] - ETA: 0s - loss: 1.6449 - accuracy: 0.6629\n",
            "Epoch 3: val_accuracy improved from 0.63556 to 0.72545, saving model to /content/drive/MyDrive/Data Science/BGU/Machine Learning/Assignments/3/model_files/1007/0_best_model.h5\n",
            "128/128 [==============================] - 32s 254ms/step - loss: 1.6449 - accuracy: 0.6629 - val_loss: 1.4463 - val_accuracy: 0.7255 - lr: 1.0000e-04\n",
            "Epoch 4/120\n",
            "128/128 [==============================] - ETA: 0s - loss: 1.2311 - accuracy: 0.7650\n",
            "Epoch 4: val_accuracy improved from 0.72545 to 0.78065, saving model to /content/drive/MyDrive/Data Science/BGU/Machine Learning/Assignments/3/model_files/1007/0_best_model.h5\n",
            "128/128 [==============================] - 32s 254ms/step - loss: 1.2311 - accuracy: 0.7650 - val_loss: 1.1800 - val_accuracy: 0.7807 - lr: 1.0000e-04\n",
            "Epoch 5/120\n",
            "128/128 [==============================] - ETA: 0s - loss: 0.9654 - accuracy: 0.8244\n",
            "Epoch 5: val_accuracy improved from 0.78065 to 0.82022, saving model to /content/drive/MyDrive/Data Science/BGU/Machine Learning/Assignments/3/model_files/1007/0_best_model.h5\n",
            "128/128 [==============================] - 33s 255ms/step - loss: 0.9654 - accuracy: 0.8244 - val_loss: 0.9995 - val_accuracy: 0.8202 - lr: 1.0000e-04\n",
            "Epoch 6/120\n",
            "128/128 [==============================] - ETA: 0s - loss: 0.7791 - accuracy: 0.8647\n",
            "Epoch 6: val_accuracy improved from 0.82022 to 0.84612, saving model to /content/drive/MyDrive/Data Science/BGU/Machine Learning/Assignments/3/model_files/1007/0_best_model.h5\n",
            "128/128 [==============================] - 32s 255ms/step - loss: 0.7791 - accuracy: 0.8647 - val_loss: 0.8687 - val_accuracy: 0.8461 - lr: 1.0000e-04\n",
            "Epoch 7/120\n",
            "128/128 [==============================] - ETA: 0s - loss: 0.6340 - accuracy: 0.8964\n",
            "Epoch 7: val_accuracy improved from 0.84612 to 0.86468, saving model to /content/drive/MyDrive/Data Science/BGU/Machine Learning/Assignments/3/model_files/1007/0_best_model.h5\n",
            "128/128 [==============================] - 32s 255ms/step - loss: 0.6340 - accuracy: 0.8964 - val_loss: 0.7687 - val_accuracy: 0.8647 - lr: 1.0000e-04\n",
            "Epoch 8/120\n",
            "128/128 [==============================] - ETA: 0s - loss: 0.5375 - accuracy: 0.9174\n",
            "Epoch 8: val_accuracy improved from 0.86468 to 0.87689, saving model to /content/drive/MyDrive/Data Science/BGU/Machine Learning/Assignments/3/model_files/1007/0_best_model.h5\n",
            "128/128 [==============================] - 33s 256ms/step - loss: 0.5375 - accuracy: 0.9174 - val_loss: 0.6898 - val_accuracy: 0.8769 - lr: 1.0000e-04\n",
            "Epoch 9/120\n",
            "128/128 [==============================] - ETA: 0s - loss: 0.4690 - accuracy: 0.9294\n",
            "Epoch 9: val_accuracy improved from 0.87689 to 0.88471, saving model to /content/drive/MyDrive/Data Science/BGU/Machine Learning/Assignments/3/model_files/1007/0_best_model.h5\n",
            "128/128 [==============================] - 32s 254ms/step - loss: 0.4690 - accuracy: 0.9294 - val_loss: 0.6284 - val_accuracy: 0.8847 - lr: 1.0000e-04\n",
            "Epoch 10/120\n",
            "128/128 [==============================] - ETA: 0s - loss: 0.4032 - accuracy: 0.9394\n",
            "Epoch 10: val_accuracy improved from 0.88471 to 0.89546, saving model to /content/drive/MyDrive/Data Science/BGU/Machine Learning/Assignments/3/model_files/1007/0_best_model.h5\n",
            "128/128 [==============================] - 33s 257ms/step - loss: 0.4032 - accuracy: 0.9394 - val_loss: 0.5794 - val_accuracy: 0.8955 - lr: 1.0000e-04\n",
            "Epoch 11/120\n",
            "128/128 [==============================] - ETA: 0s - loss: 0.3417 - accuracy: 0.9541\n",
            "Epoch 11: val_accuracy improved from 0.89546 to 0.89741, saving model to /content/drive/MyDrive/Data Science/BGU/Machine Learning/Assignments/3/model_files/1007/0_best_model.h5\n",
            "128/128 [==============================] - 32s 254ms/step - loss: 0.3417 - accuracy: 0.9541 - val_loss: 0.5393 - val_accuracy: 0.8974 - lr: 1.0000e-04\n",
            "Epoch 12/120\n",
            "128/128 [==============================] - ETA: 0s - loss: 0.2939 - accuracy: 0.9641\n",
            "Epoch 12: val_accuracy improved from 0.89741 to 0.90278, saving model to /content/drive/MyDrive/Data Science/BGU/Machine Learning/Assignments/3/model_files/1007/0_best_model.h5\n",
            "128/128 [==============================] - 32s 254ms/step - loss: 0.2939 - accuracy: 0.9641 - val_loss: 0.5036 - val_accuracy: 0.9028 - lr: 1.0000e-04\n",
            "Epoch 13/120\n",
            "128/128 [==============================] - ETA: 0s - loss: 0.2533 - accuracy: 0.9692\n",
            "Epoch 13: val_accuracy improved from 0.90278 to 0.90816, saving model to /content/drive/MyDrive/Data Science/BGU/Machine Learning/Assignments/3/model_files/1007/0_best_model.h5\n",
            "128/128 [==============================] - 32s 254ms/step - loss: 0.2533 - accuracy: 0.9692 - val_loss: 0.4757 - val_accuracy: 0.9082 - lr: 1.0000e-04\n",
            "Epoch 14/120\n",
            "128/128 [==============================] - ETA: 0s - loss: 0.2273 - accuracy: 0.9734\n",
            "Epoch 14: val_accuracy improved from 0.90816 to 0.91109, saving model to /content/drive/MyDrive/Data Science/BGU/Machine Learning/Assignments/3/model_files/1007/0_best_model.h5\n",
            "128/128 [==============================] - 33s 255ms/step - loss: 0.2273 - accuracy: 0.9734 - val_loss: 0.4493 - val_accuracy: 0.9111 - lr: 1.0000e-04\n",
            "Epoch 15/120\n",
            "128/128 [==============================] - ETA: 0s - loss: 0.2063 - accuracy: 0.9795\n",
            "Epoch 15: val_accuracy improved from 0.91109 to 0.91451, saving model to /content/drive/MyDrive/Data Science/BGU/Machine Learning/Assignments/3/model_files/1007/0_best_model.h5\n",
            "128/128 [==============================] - 33s 255ms/step - loss: 0.2063 - accuracy: 0.9795 - val_loss: 0.4297 - val_accuracy: 0.9145 - lr: 1.0000e-04\n",
            "Epoch 16/120\n",
            "128/128 [==============================] - ETA: 0s - loss: 0.1827 - accuracy: 0.9856\n",
            "Epoch 16: val_accuracy did not improve from 0.91451\n",
            "128/128 [==============================] - 31s 246ms/step - loss: 0.1827 - accuracy: 0.9856 - val_loss: 0.4140 - val_accuracy: 0.9135 - lr: 1.0000e-04\n",
            "Epoch 17/120\n",
            "128/128 [==============================] - ETA: 0s - loss: 0.1591 - accuracy: 0.9853\n",
            "Epoch 17: val_accuracy improved from 0.91451 to 0.91597, saving model to /content/drive/MyDrive/Data Science/BGU/Machine Learning/Assignments/3/model_files/1007/0_best_model.h5\n",
            "128/128 [==============================] - 32s 254ms/step - loss: 0.1591 - accuracy: 0.9853 - val_loss: 0.3965 - val_accuracy: 0.9160 - lr: 1.0000e-04\n",
            "Epoch 18/120\n",
            "128/128 [==============================] - ETA: 0s - loss: 0.1457 - accuracy: 0.9856\n",
            "Epoch 18: val_accuracy improved from 0.91597 to 0.91988, saving model to /content/drive/MyDrive/Data Science/BGU/Machine Learning/Assignments/3/model_files/1007/0_best_model.h5\n",
            "128/128 [==============================] - 33s 255ms/step - loss: 0.1457 - accuracy: 0.9856 - val_loss: 0.3828 - val_accuracy: 0.9199 - lr: 1.0000e-04\n",
            "Epoch 19/120\n",
            "128/128 [==============================] - ETA: 0s - loss: 0.1292 - accuracy: 0.9907\n",
            "Epoch 19: val_accuracy improved from 0.91988 to 0.92281, saving model to /content/drive/MyDrive/Data Science/BGU/Machine Learning/Assignments/3/model_files/1007/0_best_model.h5\n",
            "128/128 [==============================] - 32s 254ms/step - loss: 0.1292 - accuracy: 0.9907 - val_loss: 0.3694 - val_accuracy: 0.9228 - lr: 1.0000e-04\n",
            "Epoch 20/120\n",
            "128/128 [==============================] - ETA: 0s - loss: 0.1182 - accuracy: 0.9893\n",
            "Epoch 20: val_accuracy did not improve from 0.92281\n",
            "128/128 [==============================] - 32s 248ms/step - loss: 0.1182 - accuracy: 0.9893 - val_loss: 0.3590 - val_accuracy: 0.9213 - lr: 1.0000e-04\n",
            "Epoch 21/120\n",
            "128/128 [==============================] - ETA: 0s - loss: 0.1050 - accuracy: 0.9922\n",
            "Epoch 21: val_accuracy did not improve from 0.92281\n",
            "128/128 [==============================] - 31s 246ms/step - loss: 0.1050 - accuracy: 0.9922 - val_loss: 0.3494 - val_accuracy: 0.9213 - lr: 1.0000e-04\n",
            "Epoch 22/120\n",
            "128/128 [==============================] - ETA: 0s - loss: 0.0921 - accuracy: 0.9941\n",
            "Epoch 22: val_accuracy did not improve from 0.92281\n",
            "128/128 [==============================] - 31s 246ms/step - loss: 0.0921 - accuracy: 0.9941 - val_loss: 0.3410 - val_accuracy: 0.9213 - lr: 1.0000e-04\n",
            "Epoch 23/120\n",
            "128/128 [==============================] - ETA: 0s - loss: 0.0873 - accuracy: 0.9954\n",
            "Epoch 23: val_accuracy did not improve from 0.92281\n",
            "128/128 [==============================] - 32s 248ms/step - loss: 0.0873 - accuracy: 0.9954 - val_loss: 0.3325 - val_accuracy: 0.9223 - lr: 1.0000e-04\n",
            "Epoch 24/120\n",
            "128/128 [==============================] - ETA: 0s - loss: 0.0792 - accuracy: 0.9939\n",
            "Epoch 24: val_accuracy improved from 0.92281 to 0.92477, saving model to /content/drive/MyDrive/Data Science/BGU/Machine Learning/Assignments/3/model_files/1007/0_best_model.h5\n",
            "128/128 [==============================] - 33s 255ms/step - loss: 0.0792 - accuracy: 0.9939 - val_loss: 0.3280 - val_accuracy: 0.9248 - lr: 1.0000e-04\n",
            "Epoch 25/120\n",
            "128/128 [==============================] - ETA: 0s - loss: 0.0757 - accuracy: 0.9941\n",
            "Epoch 25: val_accuracy did not improve from 0.92477\n",
            "128/128 [==============================] - 32s 247ms/step - loss: 0.0757 - accuracy: 0.9941 - val_loss: 0.3213 - val_accuracy: 0.9248 - lr: 1.0000e-04\n",
            "Epoch 26/120\n",
            "128/128 [==============================] - ETA: 0s - loss: 0.0620 - accuracy: 0.9980\n",
            "Epoch 26: val_accuracy did not improve from 0.92477\n",
            "128/128 [==============================] - 31s 247ms/step - loss: 0.0620 - accuracy: 0.9980 - val_loss: 0.3159 - val_accuracy: 0.9243 - lr: 1.0000e-04\n",
            "Epoch 27/120\n",
            "128/128 [==============================] - ETA: 0s - loss: 0.0586 - accuracy: 0.9976\n",
            "Epoch 27: val_accuracy improved from 0.92477 to 0.92819, saving model to /content/drive/MyDrive/Data Science/BGU/Machine Learning/Assignments/3/model_files/1007/0_best_model.h5\n",
            "128/128 [==============================] - 32s 254ms/step - loss: 0.0586 - accuracy: 0.9976 - val_loss: 0.3098 - val_accuracy: 0.9282 - lr: 1.0000e-04\n",
            "Epoch 28/120\n",
            "128/128 [==============================] - ETA: 0s - loss: 0.0520 - accuracy: 0.9985\n",
            "Epoch 28: val_accuracy did not improve from 0.92819\n",
            "128/128 [==============================] - 31s 246ms/step - loss: 0.0520 - accuracy: 0.9985 - val_loss: 0.3026 - val_accuracy: 0.9262 - lr: 1.0000e-04\n",
            "Epoch 29/120\n",
            "128/128 [==============================] - ETA: 0s - loss: 0.0495 - accuracy: 0.9978\n",
            "Epoch 29: val_accuracy did not improve from 0.92819\n",
            "128/128 [==============================] - 31s 246ms/step - loss: 0.0495 - accuracy: 0.9978 - val_loss: 0.2972 - val_accuracy: 0.9272 - lr: 1.0000e-04\n",
            "Epoch 30/120\n",
            "128/128 [==============================] - ETA: 0s - loss: 0.0458 - accuracy: 0.9983\n",
            "Epoch 30: val_accuracy improved from 0.92819 to 0.92916, saving model to /content/drive/MyDrive/Data Science/BGU/Machine Learning/Assignments/3/model_files/1007/0_best_model.h5\n",
            "128/128 [==============================] - 33s 257ms/step - loss: 0.0458 - accuracy: 0.9983 - val_loss: 0.2935 - val_accuracy: 0.9292 - lr: 1.0000e-04\n",
            "Epoch 31/120\n",
            "128/128 [==============================] - ETA: 0s - loss: 0.0415 - accuracy: 0.9988\n",
            "Epoch 31: val_accuracy improved from 0.92916 to 0.93014, saving model to /content/drive/MyDrive/Data Science/BGU/Machine Learning/Assignments/3/model_files/1007/0_best_model.h5\n",
            "128/128 [==============================] - 33s 255ms/step - loss: 0.0415 - accuracy: 0.9988 - val_loss: 0.2896 - val_accuracy: 0.9301 - lr: 1.0000e-04\n",
            "Epoch 32/120\n",
            "128/128 [==============================] - ETA: 0s - loss: 0.0392 - accuracy: 0.9993\n",
            "Epoch 32: val_accuracy did not improve from 0.93014\n",
            "128/128 [==============================] - 31s 246ms/step - loss: 0.0392 - accuracy: 0.9993 - val_loss: 0.2866 - val_accuracy: 0.9292 - lr: 1.0000e-04\n",
            "Epoch 33/120\n",
            "128/128 [==============================] - ETA: 0s - loss: 0.0379 - accuracy: 0.9983\n",
            "Epoch 33: val_accuracy did not improve from 0.93014\n",
            "128/128 [==============================] - 31s 246ms/step - loss: 0.0379 - accuracy: 0.9983 - val_loss: 0.2853 - val_accuracy: 0.9267 - lr: 1.0000e-04\n",
            "Epoch 34/120\n",
            "128/128 [==============================] - ETA: 0s - loss: 0.0306 - accuracy: 0.9995\n",
            "Epoch 34: val_accuracy did not improve from 0.93014\n",
            "128/128 [==============================] - 31s 246ms/step - loss: 0.0306 - accuracy: 0.9995 - val_loss: 0.2788 - val_accuracy: 0.9292 - lr: 1.0000e-04\n",
            "Epoch 35/120\n",
            "128/128 [==============================] - ETA: 0s - loss: 0.0304 - accuracy: 0.9998\n",
            "Epoch 35: val_accuracy did not improve from 0.93014\n",
            "128/128 [==============================] - 31s 247ms/step - loss: 0.0304 - accuracy: 0.9998 - val_loss: 0.2773 - val_accuracy: 0.9262 - lr: 1.0000e-04\n",
            "Epoch 36/120\n",
            "128/128 [==============================] - ETA: 0s - loss: 0.0261 - accuracy: 0.9998\n",
            "Epoch 36: val_accuracy did not improve from 0.93014\n",
            "128/128 [==============================] - 31s 246ms/step - loss: 0.0261 - accuracy: 0.9998 - val_loss: 0.2727 - val_accuracy: 0.9272 - lr: 1.0000e-04\n",
            "Epoch 37/120\n",
            "128/128 [==============================] - ETA: 0s - loss: 0.0254 - accuracy: 0.9990\n",
            "Epoch 37: val_accuracy did not improve from 0.93014\n",
            "128/128 [==============================] - 31s 246ms/step - loss: 0.0254 - accuracy: 0.9990 - val_loss: 0.2729 - val_accuracy: 0.9267 - lr: 1.0000e-04\n",
            "Epoch 38/120\n",
            "128/128 [==============================] - ETA: 0s - loss: 0.0235 - accuracy: 0.9998\n",
            "Epoch 38: val_accuracy did not improve from 0.93014\n",
            "128/128 [==============================] - 31s 246ms/step - loss: 0.0235 - accuracy: 0.9998 - val_loss: 0.2732 - val_accuracy: 0.9267 - lr: 1.0000e-04\n",
            "Epoch 39/120\n",
            "128/128 [==============================] - ETA: 0s - loss: 0.0241 - accuracy: 0.9995\n",
            "Epoch 39: val_accuracy improved from 0.93014 to 0.93112, saving model to /content/drive/MyDrive/Data Science/BGU/Machine Learning/Assignments/3/model_files/1007/0_best_model.h5\n",
            "128/128 [==============================] - 33s 255ms/step - loss: 0.0241 - accuracy: 0.9995 - val_loss: 0.2712 - val_accuracy: 0.9311 - lr: 1.0000e-04\n",
            "Epoch 40/120\n",
            "128/128 [==============================] - ETA: 0s - loss: 0.0205 - accuracy: 0.9995\n",
            "Epoch 40: val_accuracy did not improve from 0.93112\n",
            "128/128 [==============================] - 32s 249ms/step - loss: 0.0205 - accuracy: 0.9995 - val_loss: 0.2687 - val_accuracy: 0.9301 - lr: 1.0000e-04\n",
            "Epoch 41/120\n",
            "128/128 [==============================] - ETA: 0s - loss: 0.0210 - accuracy: 0.9995\n",
            "Epoch 41: val_accuracy improved from 0.93112 to 0.93258, saving model to /content/drive/MyDrive/Data Science/BGU/Machine Learning/Assignments/3/model_files/1007/0_best_model.h5\n",
            "128/128 [==============================] - 32s 255ms/step - loss: 0.0210 - accuracy: 0.9995 - val_loss: 0.2652 - val_accuracy: 0.9326 - lr: 1.0000e-04\n",
            "Epoch 42/120\n",
            "128/128 [==============================] - ETA: 0s - loss: 0.0193 - accuracy: 0.9995\n",
            "Epoch 42: val_accuracy did not improve from 0.93258\n",
            "128/128 [==============================] - 31s 246ms/step - loss: 0.0193 - accuracy: 0.9995 - val_loss: 0.2629 - val_accuracy: 0.9282 - lr: 1.0000e-04\n",
            "Epoch 43/120\n",
            "128/128 [==============================] - ETA: 0s - loss: 0.0159 - accuracy: 0.9998\n",
            "Epoch 43: val_accuracy did not improve from 0.93258\n",
            "128/128 [==============================] - 31s 246ms/step - loss: 0.0159 - accuracy: 0.9998 - val_loss: 0.2587 - val_accuracy: 0.9292 - lr: 1.0000e-04\n",
            "Epoch 44/120\n",
            "128/128 [==============================] - ETA: 0s - loss: 0.0154 - accuracy: 0.9998\n",
            "Epoch 44: val_accuracy did not improve from 0.93258\n",
            "128/128 [==============================] - 31s 246ms/step - loss: 0.0154 - accuracy: 0.9998 - val_loss: 0.2583 - val_accuracy: 0.9292 - lr: 1.0000e-04\n",
            "Epoch 45/120\n",
            "128/128 [==============================] - ETA: 0s - loss: 0.0149 - accuracy: 1.0000\n",
            "Epoch 45: val_accuracy did not improve from 0.93258\n",
            "128/128 [==============================] - 31s 246ms/step - loss: 0.0149 - accuracy: 1.0000 - val_loss: 0.2563 - val_accuracy: 0.9326 - lr: 1.0000e-04\n",
            "Epoch 46/120\n",
            "128/128 [==============================] - ETA: 0s - loss: 0.0137 - accuracy: 0.9998\n",
            "Epoch 46: val_accuracy did not improve from 0.93258\n",
            "128/128 [==============================] - 31s 246ms/step - loss: 0.0137 - accuracy: 0.9998 - val_loss: 0.2548 - val_accuracy: 0.9316 - lr: 1.0000e-04\n",
            "Epoch 47/120\n",
            "128/128 [==============================] - ETA: 0s - loss: 0.0124 - accuracy: 1.0000\n",
            "Epoch 47: val_accuracy did not improve from 0.93258\n",
            "128/128 [==============================] - 31s 246ms/step - loss: 0.0124 - accuracy: 1.0000 - val_loss: 0.2561 - val_accuracy: 0.9297 - lr: 1.0000e-04\n",
            "Epoch 48/120\n",
            "128/128 [==============================] - ETA: 0s - loss: 0.0130 - accuracy: 0.9995\n",
            "Epoch 48: val_accuracy improved from 0.93258 to 0.93405, saving model to /content/drive/MyDrive/Data Science/BGU/Machine Learning/Assignments/3/model_files/1007/0_best_model.h5\n",
            "128/128 [==============================] - 32s 254ms/step - loss: 0.0130 - accuracy: 0.9995 - val_loss: 0.2515 - val_accuracy: 0.9340 - lr: 1.0000e-04\n",
            "Epoch 49/120\n",
            "128/128 [==============================] - ETA: 0s - loss: 0.0126 - accuracy: 0.9995\n",
            "Epoch 49: val_accuracy improved from 0.93405 to 0.93454, saving model to /content/drive/MyDrive/Data Science/BGU/Machine Learning/Assignments/3/model_files/1007/0_best_model.h5\n",
            "128/128 [==============================] - 33s 255ms/step - loss: 0.0126 - accuracy: 0.9995 - val_loss: 0.2525 - val_accuracy: 0.9345 - lr: 1.0000e-04\n",
            "Epoch 50/120\n",
            "128/128 [==============================] - ETA: 0s - loss: 0.0115 - accuracy: 0.9998\n",
            "Epoch 50: val_accuracy did not improve from 0.93454\n",
            "128/128 [==============================] - 32s 249ms/step - loss: 0.0115 - accuracy: 0.9998 - val_loss: 0.2514 - val_accuracy: 0.9331 - lr: 1.0000e-04\n",
            "Epoch 51/120\n",
            "128/128 [==============================] - ETA: 0s - loss: 0.0110 - accuracy: 0.9998\n",
            "Epoch 51: val_accuracy did not improve from 0.93454\n",
            "128/128 [==============================] - 31s 246ms/step - loss: 0.0110 - accuracy: 0.9998 - val_loss: 0.2487 - val_accuracy: 0.9340 - lr: 1.0000e-04\n",
            "Epoch 52/120\n",
            "128/128 [==============================] - ETA: 0s - loss: 0.0098 - accuracy: 0.9995\n",
            "Epoch 52: val_accuracy improved from 0.93454 to 0.93747, saving model to /content/drive/MyDrive/Data Science/BGU/Machine Learning/Assignments/3/model_files/1007/0_best_model.h5\n",
            "128/128 [==============================] - 33s 255ms/step - loss: 0.0098 - accuracy: 0.9995 - val_loss: 0.2453 - val_accuracy: 0.9375 - lr: 1.0000e-04\n",
            "Epoch 53/120\n",
            "128/128 [==============================] - ETA: 0s - loss: 0.0097 - accuracy: 0.9995\n",
            "Epoch 53: val_accuracy did not improve from 0.93747\n",
            "128/128 [==============================] - 31s 246ms/step - loss: 0.0097 - accuracy: 0.9995 - val_loss: 0.2461 - val_accuracy: 0.9345 - lr: 1.0000e-04\n",
            "Epoch 54/120\n",
            "128/128 [==============================] - ETA: 0s - loss: 0.0093 - accuracy: 0.9998\n",
            "Epoch 54: val_accuracy did not improve from 0.93747\n",
            "128/128 [==============================] - 31s 246ms/step - loss: 0.0093 - accuracy: 0.9998 - val_loss: 0.2441 - val_accuracy: 0.9350 - lr: 1.0000e-04\n",
            "Epoch 55/120\n",
            "128/128 [==============================] - ETA: 0s - loss: 0.0085 - accuracy: 0.9998\n",
            "Epoch 55: val_accuracy did not improve from 0.93747\n",
            "128/128 [==============================] - 31s 246ms/step - loss: 0.0085 - accuracy: 0.9998 - val_loss: 0.2451 - val_accuracy: 0.9340 - lr: 1.0000e-04\n",
            "Epoch 56/120\n",
            "128/128 [==============================] - ETA: 0s - loss: 0.0088 - accuracy: 0.9995\n",
            "Epoch 56: val_accuracy did not improve from 0.93747\n",
            "128/128 [==============================] - 31s 246ms/step - loss: 0.0088 - accuracy: 0.9995 - val_loss: 0.2411 - val_accuracy: 0.9360 - lr: 1.0000e-04\n",
            "Epoch 57/120\n",
            "128/128 [==============================] - ETA: 0s - loss: 0.0065 - accuracy: 0.9998\n",
            "Epoch 57: val_accuracy did not improve from 0.93747\n",
            "128/128 [==============================] - 31s 246ms/step - loss: 0.0065 - accuracy: 0.9998 - val_loss: 0.2511 - val_accuracy: 0.9306 - lr: 1.0000e-04\n",
            "Epoch 58/120\n",
            "128/128 [==============================] - ETA: 0s - loss: 0.0074 - accuracy: 0.9998\n",
            "Epoch 58: val_accuracy did not improve from 0.93747\n",
            "128/128 [==============================] - 31s 246ms/step - loss: 0.0074 - accuracy: 0.9998 - val_loss: 0.2415 - val_accuracy: 0.9345 - lr: 1.0000e-04\n",
            "Epoch 59/120\n",
            "128/128 [==============================] - ETA: 0s - loss: 0.0068 - accuracy: 0.9998\n",
            "Epoch 59: val_accuracy did not improve from 0.93747\n",
            "128/128 [==============================] - 31s 246ms/step - loss: 0.0068 - accuracy: 0.9998 - val_loss: 0.2395 - val_accuracy: 0.9370 - lr: 1.0000e-04\n",
            "Epoch 60/120\n",
            "128/128 [==============================] - ETA: 0s - loss: 0.0064 - accuracy: 0.9995\n",
            "Epoch 60: val_accuracy did not improve from 0.93747\n",
            "128/128 [==============================] - 32s 248ms/step - loss: 0.0064 - accuracy: 0.9995 - val_loss: 0.2391 - val_accuracy: 0.9375 - lr: 1.0000e-04\n",
            "Epoch 61/120\n",
            "128/128 [==============================] - ETA: 0s - loss: 0.0052 - accuracy: 1.0000\n",
            "Epoch 61: val_accuracy did not improve from 0.93747\n",
            "128/128 [==============================] - 31s 246ms/step - loss: 0.0052 - accuracy: 1.0000 - val_loss: 0.2402 - val_accuracy: 0.9370 - lr: 1.0000e-04\n",
            "Epoch 62/120\n",
            "128/128 [==============================] - ETA: 0s - loss: 0.0060 - accuracy: 0.9993\n",
            "Epoch 62: val_accuracy did not improve from 0.93747\n",
            "128/128 [==============================] - 31s 246ms/step - loss: 0.0060 - accuracy: 0.9993 - val_loss: 0.2396 - val_accuracy: 0.9375 - lr: 1.0000e-04\n",
            "Epoch 63/120\n",
            "128/128 [==============================] - ETA: 0s - loss: 0.0057 - accuracy: 0.9995\n",
            "Epoch 63: val_accuracy did not improve from 0.93747\n",
            "128/128 [==============================] - 31s 246ms/step - loss: 0.0057 - accuracy: 0.9995 - val_loss: 0.2401 - val_accuracy: 0.9365 - lr: 1.0000e-04\n",
            "Epoch 64/120\n",
            "128/128 [==============================] - ETA: 0s - loss: 0.0044 - accuracy: 1.0000\n",
            "Epoch 64: val_accuracy did not improve from 0.93747\n",
            "128/128 [==============================] - 31s 247ms/step - loss: 0.0044 - accuracy: 1.0000 - val_loss: 0.2390 - val_accuracy: 0.9370 - lr: 1.0000e-04\n",
            "Epoch 65/120\n",
            "128/128 [==============================] - ETA: 0s - loss: 0.0042 - accuracy: 1.0000\n",
            "Epoch 65: val_accuracy did not improve from 0.93747\n",
            "128/128 [==============================] - 31s 246ms/step - loss: 0.0042 - accuracy: 1.0000 - val_loss: 0.2410 - val_accuracy: 0.9336 - lr: 1.0000e-04\n",
            "Epoch 66/120\n",
            "128/128 [==============================] - ETA: 0s - loss: 0.0043 - accuracy: 1.0000\n",
            "Epoch 66: val_accuracy improved from 0.93747 to 0.93845, saving model to /content/drive/MyDrive/Data Science/BGU/Machine Learning/Assignments/3/model_files/1007/0_best_model.h5\n",
            "128/128 [==============================] - 33s 255ms/step - loss: 0.0043 - accuracy: 1.0000 - val_loss: 0.2381 - val_accuracy: 0.9384 - lr: 1.0000e-04\n",
            "Epoch 67/120\n",
            "128/128 [==============================] - ETA: 0s - loss: 0.0058 - accuracy: 0.9993\n",
            "Epoch 67: val_accuracy did not improve from 0.93845\n",
            "128/128 [==============================] - 31s 246ms/step - loss: 0.0058 - accuracy: 0.9993 - val_loss: 0.2398 - val_accuracy: 0.9375 - lr: 1.0000e-04\n",
            "Epoch 68/120\n",
            "128/128 [==============================] - ETA: 0s - loss: 0.0040 - accuracy: 0.9998\n",
            "Epoch 68: val_accuracy did not improve from 0.93845\n",
            "128/128 [==============================] - 31s 246ms/step - loss: 0.0040 - accuracy: 0.9998 - val_loss: 0.2395 - val_accuracy: 0.9370 - lr: 1.0000e-04\n",
            "Epoch 69/120\n",
            "128/128 [==============================] - ETA: 0s - loss: 0.0035 - accuracy: 1.0000\n",
            "Epoch 69: val_accuracy improved from 0.93845 to 0.93942, saving model to /content/drive/MyDrive/Data Science/BGU/Machine Learning/Assignments/3/model_files/1007/0_best_model.h5\n",
            "128/128 [==============================] - 33s 255ms/step - loss: 0.0035 - accuracy: 1.0000 - val_loss: 0.2350 - val_accuracy: 0.9394 - lr: 1.0000e-04\n",
            "Epoch 70/120\n",
            "128/128 [==============================] - ETA: 0s - loss: 0.0033 - accuracy: 0.9998\n",
            "Epoch 70: val_accuracy did not improve from 0.93942\n",
            "128/128 [==============================] - 32s 249ms/step - loss: 0.0033 - accuracy: 0.9998 - val_loss: 0.2338 - val_accuracy: 0.9380 - lr: 1.0000e-04\n",
            "Epoch 71/120\n",
            "128/128 [==============================] - ETA: 0s - loss: 0.0048 - accuracy: 0.9998\n",
            "Epoch 71: val_accuracy did not improve from 0.93942\n",
            "128/128 [==============================] - 31s 246ms/step - loss: 0.0048 - accuracy: 0.9998 - val_loss: 0.2366 - val_accuracy: 0.9384 - lr: 1.0000e-04\n",
            "Epoch 72/120\n",
            "128/128 [==============================] - ETA: 0s - loss: 0.0041 - accuracy: 0.9995\n",
            "Epoch 72: val_accuracy did not improve from 0.93942\n",
            "128/128 [==============================] - 31s 246ms/step - loss: 0.0041 - accuracy: 0.9995 - val_loss: 0.2345 - val_accuracy: 0.9355 - lr: 1.0000e-04\n",
            "Epoch 73/120\n",
            "128/128 [==============================] - ETA: 0s - loss: 0.0031 - accuracy: 1.0000\n",
            "Epoch 73: val_accuracy did not improve from 0.93942\n",
            "128/128 [==============================] - 31s 246ms/step - loss: 0.0031 - accuracy: 1.0000 - val_loss: 0.2336 - val_accuracy: 0.9384 - lr: 1.0000e-04\n",
            "Epoch 74/120\n",
            "128/128 [==============================] - ETA: 0s - loss: 0.0028 - accuracy: 1.0000\n",
            "Epoch 74: val_accuracy did not improve from 0.93942\n",
            "128/128 [==============================] - 31s 246ms/step - loss: 0.0028 - accuracy: 1.0000 - val_loss: 0.2375 - val_accuracy: 0.9355 - lr: 1.0000e-04\n",
            "Epoch 75/120\n",
            "128/128 [==============================] - ETA: 0s - loss: 0.0031 - accuracy: 0.9998\n",
            "Epoch 75: val_accuracy did not improve from 0.93942\n",
            "128/128 [==============================] - 31s 246ms/step - loss: 0.0031 - accuracy: 0.9998 - val_loss: 0.2335 - val_accuracy: 0.9389 - lr: 1.0000e-04\n",
            "Epoch 76/120\n",
            "128/128 [==============================] - ETA: 0s - loss: 0.0038 - accuracy: 0.9998\n",
            "Epoch 76: val_accuracy did not improve from 0.93942\n",
            "128/128 [==============================] - 31s 246ms/step - loss: 0.0038 - accuracy: 0.9998 - val_loss: 0.2370 - val_accuracy: 0.9380 - lr: 1.0000e-04\n",
            "Epoch 77/120\n",
            "128/128 [==============================] - ETA: 0s - loss: 0.0024 - accuracy: 1.0000\n",
            "Epoch 77: val_accuracy did not improve from 0.93942\n",
            "128/128 [==============================] - 31s 246ms/step - loss: 0.0024 - accuracy: 1.0000 - val_loss: 0.2351 - val_accuracy: 0.9389 - lr: 1.0000e-04\n",
            "Epoch 78/120\n",
            "128/128 [==============================] - ETA: 0s - loss: 0.0022 - accuracy: 1.0000\n",
            "Epoch 78: val_accuracy did not improve from 0.93942\n",
            "128/128 [==============================] - 31s 246ms/step - loss: 0.0022 - accuracy: 1.0000 - val_loss: 0.2376 - val_accuracy: 0.9365 - lr: 1.0000e-04\n",
            "Epoch 79/120\n",
            "128/128 [==============================] - ETA: 0s - loss: 0.0026 - accuracy: 1.0000\n",
            "Epoch 79: val_accuracy did not improve from 0.93942\n",
            "128/128 [==============================] - 31s 246ms/step - loss: 0.0026 - accuracy: 1.0000 - val_loss: 0.2396 - val_accuracy: 0.9331 - lr: 1.0000e-04\n",
            "Epoch 80/120\n",
            "128/128 [==============================] - ETA: 0s - loss: 0.0022 - accuracy: 1.0000\n",
            "Epoch 80: val_accuracy did not improve from 0.93942\n",
            "128/128 [==============================] - 32s 248ms/step - loss: 0.0022 - accuracy: 1.0000 - val_loss: 0.2335 - val_accuracy: 0.9370 - lr: 1.0000e-04\n",
            "Epoch 81/120\n",
            "128/128 [==============================] - ETA: 0s - loss: 0.0021 - accuracy: 1.0000\n",
            "Epoch 81: val_accuracy did not improve from 0.93942\n",
            "128/128 [==============================] - 31s 246ms/step - loss: 0.0021 - accuracy: 1.0000 - val_loss: 0.2379 - val_accuracy: 0.9365 - lr: 1.0000e-04\n",
            "Epoch 82/120\n",
            "128/128 [==============================] - ETA: 0s - loss: 0.0021 - accuracy: 0.9998\n",
            "Epoch 82: val_accuracy did not improve from 0.93942\n",
            "128/128 [==============================] - 31s 246ms/step - loss: 0.0021 - accuracy: 0.9998 - val_loss: 0.2399 - val_accuracy: 0.9345 - lr: 1.0000e-04\n",
            "Epoch 83/120\n",
            "128/128 [==============================] - ETA: 0s - loss: 0.0032 - accuracy: 0.9998\n",
            "Epoch 83: val_accuracy did not improve from 0.93942\n",
            "128/128 [==============================] - 31s 246ms/step - loss: 0.0032 - accuracy: 0.9998 - val_loss: 0.2370 - val_accuracy: 0.9375 - lr: 1.0000e-04\n",
            "Epoch 84/120\n",
            "128/128 [==============================] - ETA: 0s - loss: 0.0023 - accuracy: 0.9998\n",
            "Epoch 84: val_accuracy did not improve from 0.93942\n",
            "128/128 [==============================] - 31s 246ms/step - loss: 0.0023 - accuracy: 0.9998 - val_loss: 0.2432 - val_accuracy: 0.9326 - lr: 1.0000e-04\n",
            "Epoch 85/120\n",
            "128/128 [==============================] - ETA: 0s - loss: 0.0034 - accuracy: 0.9995\n",
            "Epoch 85: val_accuracy did not improve from 0.93942\n",
            "\n",
            "Epoch 85: ReduceLROnPlateau reducing learning rate to 9.999999747378752e-06.\n",
            "128/128 [==============================] - 31s 246ms/step - loss: 0.0034 - accuracy: 0.9995 - val_loss: 0.2335 - val_accuracy: 0.9375 - lr: 1.0000e-04\n",
            "Epoch 86/120\n",
            "128/128 [==============================] - ETA: 0s - loss: 0.0035 - accuracy: 0.9998\n",
            "Epoch 86: val_accuracy did not improve from 0.93942\n",
            "128/128 [==============================] - 31s 246ms/step - loss: 0.0035 - accuracy: 0.9998 - val_loss: 0.2336 - val_accuracy: 0.9375 - lr: 1.0000e-05\n",
            "Epoch 87/120\n",
            "128/128 [==============================] - ETA: 0s - loss: 0.0023 - accuracy: 0.9998\n",
            "Epoch 87: val_accuracy did not improve from 0.93942\n",
            "128/128 [==============================] - 31s 247ms/step - loss: 0.0023 - accuracy: 0.9998 - val_loss: 0.2343 - val_accuracy: 0.9380 - lr: 1.0000e-05\n",
            "Epoch 88/120\n",
            "128/128 [==============================] - ETA: 0s - loss: 0.0020 - accuracy: 0.9998\n",
            "Epoch 88: val_accuracy did not improve from 0.93942\n",
            "128/128 [==============================] - 31s 246ms/step - loss: 0.0020 - accuracy: 0.9998 - val_loss: 0.2346 - val_accuracy: 0.9380 - lr: 1.0000e-05\n",
            "Epoch 89/120\n",
            "128/128 [==============================] - ETA: 0s - loss: 0.0014 - accuracy: 1.0000\n",
            "Epoch 89: val_accuracy did not improve from 0.93942\n",
            "128/128 [==============================] - 31s 246ms/step - loss: 0.0014 - accuracy: 1.0000 - val_loss: 0.2343 - val_accuracy: 0.9384 - lr: 1.0000e-05\n",
            "Epoch 90/120\n",
            "128/128 [==============================] - ETA: 0s - loss: 0.0019 - accuracy: 0.9998\n",
            "Epoch 90: val_accuracy did not improve from 0.93942\n",
            "128/128 [==============================] - 32s 248ms/step - loss: 0.0019 - accuracy: 0.9998 - val_loss: 0.2340 - val_accuracy: 0.9389 - lr: 1.0000e-05\n",
            "Epoch 91/120\n",
            "128/128 [==============================] - ETA: 0s - loss: 0.0016 - accuracy: 0.9998\n",
            "Epoch 91: val_accuracy did not improve from 0.93942\n",
            "128/128 [==============================] - 31s 246ms/step - loss: 0.0016 - accuracy: 0.9998 - val_loss: 0.2333 - val_accuracy: 0.9394 - lr: 1.0000e-05\n",
            "Epoch 92/120\n",
            "128/128 [==============================] - ETA: 0s - loss: 0.0022 - accuracy: 0.9998\n",
            "Epoch 92: val_accuracy did not improve from 0.93942\n",
            "128/128 [==============================] - 31s 246ms/step - loss: 0.0022 - accuracy: 0.9998 - val_loss: 0.2331 - val_accuracy: 0.9389 - lr: 1.0000e-05\n",
            "Epoch 93/120\n",
            "128/128 [==============================] - ETA: 0s - loss: 0.0022 - accuracy: 0.9998\n",
            "Epoch 93: val_accuracy did not improve from 0.93942\n",
            "128/128 [==============================] - 31s 246ms/step - loss: 0.0022 - accuracy: 0.9998 - val_loss: 0.2330 - val_accuracy: 0.9384 - lr: 1.0000e-05\n",
            "Epoch 94/120\n",
            "128/128 [==============================] - ETA: 0s - loss: 0.0015 - accuracy: 1.0000\n",
            "Epoch 94: val_accuracy did not improve from 0.93942\n",
            "128/128 [==============================] - 31s 246ms/step - loss: 0.0015 - accuracy: 1.0000 - val_loss: 0.2333 - val_accuracy: 0.9380 - lr: 1.0000e-05\n",
            "Epoch 95/120\n",
            "128/128 [==============================] - ETA: 0s - loss: 0.0015 - accuracy: 0.9998\n",
            "Epoch 95: val_accuracy did not improve from 0.93942\n",
            "128/128 [==============================] - 31s 246ms/step - loss: 0.0015 - accuracy: 0.9998 - val_loss: 0.2326 - val_accuracy: 0.9380 - lr: 1.0000e-05\n",
            "Epoch 96/120\n",
            "128/128 [==============================] - ETA: 0s - loss: 0.0014 - accuracy: 1.0000\n",
            "Epoch 96: val_accuracy did not improve from 0.93942\n",
            "128/128 [==============================] - 31s 246ms/step - loss: 0.0014 - accuracy: 1.0000 - val_loss: 0.2324 - val_accuracy: 0.9380 - lr: 1.0000e-05\n",
            "Epoch 97/120\n",
            "128/128 [==============================] - ETA: 0s - loss: 0.0013 - accuracy: 1.0000\n",
            "Epoch 97: val_accuracy did not improve from 0.93942\n",
            "128/128 [==============================] - 31s 246ms/step - loss: 0.0013 - accuracy: 1.0000 - val_loss: 0.2330 - val_accuracy: 0.9384 - lr: 1.0000e-05\n",
            "Epoch 98/120\n",
            "128/128 [==============================] - ETA: 0s - loss: 0.0016 - accuracy: 1.0000\n",
            "Epoch 98: val_accuracy did not improve from 0.93942\n",
            "128/128 [==============================] - 31s 246ms/step - loss: 0.0016 - accuracy: 1.0000 - val_loss: 0.2329 - val_accuracy: 0.9380 - lr: 1.0000e-05\n",
            "Epoch 99/120\n",
            "128/128 [==============================] - ETA: 0s - loss: 0.0014 - accuracy: 1.0000\n",
            "Epoch 99: val_accuracy did not improve from 0.93942\n",
            "128/128 [==============================] - 31s 247ms/step - loss: 0.0014 - accuracy: 1.0000 - val_loss: 0.2323 - val_accuracy: 0.9380 - lr: 1.0000e-05\n",
            "Epoch 100/120\n",
            "128/128 [==============================] - ETA: 0s - loss: 0.0013 - accuracy: 1.0000\n",
            "Epoch 100: val_accuracy did not improve from 0.93942\n",
            "128/128 [==============================] - 32s 248ms/step - loss: 0.0013 - accuracy: 1.0000 - val_loss: 0.2323 - val_accuracy: 0.9380 - lr: 1.0000e-05\n",
            "Epoch 101/120\n",
            "128/128 [==============================] - ETA: 0s - loss: 0.0014 - accuracy: 1.0000\n",
            "Epoch 101: val_accuracy did not improve from 0.93942\n",
            "128/128 [==============================] - 31s 246ms/step - loss: 0.0014 - accuracy: 1.0000 - val_loss: 0.2307 - val_accuracy: 0.9380 - lr: 1.0000e-05\n",
            "Epoch 102/120\n",
            "128/128 [==============================] - ETA: 0s - loss: 0.0013 - accuracy: 1.0000\n",
            "Epoch 102: val_accuracy did not improve from 0.93942\n",
            "128/128 [==============================] - 31s 246ms/step - loss: 0.0013 - accuracy: 1.0000 - val_loss: 0.2310 - val_accuracy: 0.9375 - lr: 1.0000e-05\n",
            "Epoch 103/120\n",
            "128/128 [==============================] - ETA: 0s - loss: 0.0013 - accuracy: 1.0000\n",
            "Epoch 103: val_accuracy did not improve from 0.93942\n",
            "128/128 [==============================] - 31s 246ms/step - loss: 0.0013 - accuracy: 1.0000 - val_loss: 0.2312 - val_accuracy: 0.9375 - lr: 1.0000e-05\n",
            "Epoch 104/120\n",
            "128/128 [==============================] - ETA: 0s - loss: 0.0015 - accuracy: 0.9998\n",
            "Epoch 104: val_accuracy did not improve from 0.93942\n",
            "128/128 [==============================] - 31s 246ms/step - loss: 0.0015 - accuracy: 0.9998 - val_loss: 0.2319 - val_accuracy: 0.9375 - lr: 1.0000e-05\n",
            "Epoch 105/120\n",
            "128/128 [==============================] - ETA: 0s - loss: 0.0011 - accuracy: 1.0000\n",
            "Epoch 105: val_accuracy did not improve from 0.93942\n",
            "128/128 [==============================] - 31s 246ms/step - loss: 0.0011 - accuracy: 1.0000 - val_loss: 0.2310 - val_accuracy: 0.9389 - lr: 1.0000e-05\n",
            "Epoch 106/120\n",
            "128/128 [==============================] - ETA: 0s - loss: 0.0012 - accuracy: 1.0000\n",
            "Epoch 106: val_accuracy did not improve from 0.93942\n",
            "128/128 [==============================] - 31s 246ms/step - loss: 0.0012 - accuracy: 1.0000 - val_loss: 0.2304 - val_accuracy: 0.9389 - lr: 1.0000e-05\n",
            "Epoch 107/120\n",
            "128/128 [==============================] - ETA: 0s - loss: 0.0011 - accuracy: 1.0000\n",
            "Epoch 107: val_accuracy did not improve from 0.93942\n",
            "128/128 [==============================] - 31s 246ms/step - loss: 0.0011 - accuracy: 1.0000 - val_loss: 0.2305 - val_accuracy: 0.9389 - lr: 1.0000e-05\n",
            "Epoch 108/120\n",
            "128/128 [==============================] - ETA: 0s - loss: 0.0015 - accuracy: 0.9998\n",
            "Epoch 108: val_accuracy did not improve from 0.93942\n",
            "128/128 [==============================] - 31s 246ms/step - loss: 0.0015 - accuracy: 0.9998 - val_loss: 0.2303 - val_accuracy: 0.9384 - lr: 1.0000e-05\n",
            "Epoch 109/120\n",
            "128/128 [==============================] - ETA: 0s - loss: 0.0020 - accuracy: 0.9995\n",
            "Epoch 109: val_accuracy did not improve from 0.93942\n",
            "128/128 [==============================] - 31s 246ms/step - loss: 0.0020 - accuracy: 0.9995 - val_loss: 0.2308 - val_accuracy: 0.9389 - lr: 1.0000e-05\n",
            "Epoch 110/120\n",
            "128/128 [==============================] - ETA: 0s - loss: 9.9175e-04 - accuracy: 1.0000\n",
            "Epoch 110: val_accuracy did not improve from 0.93942\n",
            "128/128 [==============================] - 32s 249ms/step - loss: 9.9175e-04 - accuracy: 1.0000 - val_loss: 0.2313 - val_accuracy: 0.9375 - lr: 1.0000e-05\n",
            "Epoch 111/120\n",
            "128/128 [==============================] - ETA: 0s - loss: 0.0011 - accuracy: 1.0000\n",
            "Epoch 111: val_accuracy did not improve from 0.93942\n",
            "128/128 [==============================] - 31s 246ms/step - loss: 0.0011 - accuracy: 1.0000 - val_loss: 0.2313 - val_accuracy: 0.9375 - lr: 1.0000e-05\n",
            "Epoch 112/120\n",
            "128/128 [==============================] - ETA: 0s - loss: 0.0012 - accuracy: 1.0000\n",
            "Epoch 112: val_accuracy did not improve from 0.93942\n",
            "128/128 [==============================] - 31s 246ms/step - loss: 0.0012 - accuracy: 1.0000 - val_loss: 0.2322 - val_accuracy: 0.9380 - lr: 1.0000e-05\n",
            "Epoch 113/120\n",
            "128/128 [==============================] - ETA: 0s - loss: 0.0014 - accuracy: 0.9995\n",
            "Epoch 113: val_accuracy did not improve from 0.93942\n",
            "128/128 [==============================] - 31s 246ms/step - loss: 0.0014 - accuracy: 0.9995 - val_loss: 0.2312 - val_accuracy: 0.9384 - lr: 1.0000e-05\n",
            "Epoch 114/120\n",
            "128/128 [==============================] - ETA: 0s - loss: 0.0015 - accuracy: 0.9998\n",
            "Epoch 114: val_accuracy did not improve from 0.93942\n",
            "128/128 [==============================] - 31s 246ms/step - loss: 0.0015 - accuracy: 0.9998 - val_loss: 0.2309 - val_accuracy: 0.9394 - lr: 1.0000e-05\n",
            "Epoch 115/120\n",
            "128/128 [==============================] - ETA: 0s - loss: 0.0011 - accuracy: 1.0000\n",
            "Epoch 115: val_accuracy did not improve from 0.93942\n",
            "128/128 [==============================] - 31s 246ms/step - loss: 0.0011 - accuracy: 1.0000 - val_loss: 0.2304 - val_accuracy: 0.9394 - lr: 1.0000e-05\n",
            "Epoch 116/120\n",
            "128/128 [==============================] - ETA: 0s - loss: 0.0011 - accuracy: 1.0000\n",
            "Epoch 116: val_accuracy did not improve from 0.93942\n",
            "128/128 [==============================] - 31s 246ms/step - loss: 0.0011 - accuracy: 1.0000 - val_loss: 0.2313 - val_accuracy: 0.9375 - lr: 1.0000e-05\n",
            "Epoch 117/120\n",
            "128/128 [==============================] - ETA: 0s - loss: 0.0011 - accuracy: 1.0000\n",
            "Epoch 117: val_accuracy did not improve from 0.93942\n",
            "128/128 [==============================] - 31s 246ms/step - loss: 0.0011 - accuracy: 1.0000 - val_loss: 0.2328 - val_accuracy: 0.9375 - lr: 1.0000e-05\n",
            "Epoch 118/120\n",
            "128/128 [==============================] - ETA: 0s - loss: 9.3622e-04 - accuracy: 1.0000\n",
            "Epoch 118: val_accuracy did not improve from 0.93942\n",
            "\n",
            "Epoch 118: ReduceLROnPlateau reducing learning rate to 9.999999747378752e-07.\n",
            "128/128 [==============================] - 31s 246ms/step - loss: 9.3622e-04 - accuracy: 1.0000 - val_loss: 0.2326 - val_accuracy: 0.9375 - lr: 1.0000e-05\n",
            "Epoch 119/120\n",
            "128/128 [==============================] - ETA: 0s - loss: 0.0011 - accuracy: 1.0000\n",
            "Epoch 119: val_accuracy did not improve from 0.93942\n",
            "128/128 [==============================] - 31s 246ms/step - loss: 0.0011 - accuracy: 1.0000 - val_loss: 0.2325 - val_accuracy: 0.9375 - lr: 1.0000e-06\n",
            "Epoch 120/120\n",
            "128/128 [==============================] - ETA: 0s - loss: 9.7767e-04 - accuracy: 1.0000\n",
            "Epoch 120: val_accuracy did not improve from 0.93942\n",
            "128/128 [==============================] - 32s 248ms/step - loss: 9.7767e-04 - accuracy: 1.0000 - val_loss: 0.2321 - val_accuracy: 0.9375 - lr: 1.0000e-06\n",
            "RUN HISTORY:\n",
            "\n",
            "dict_keys(['loss', 'accuracy', 'val_loss', 'val_accuracy', 'lr'])\n",
            "dict_values([[4.002749919891357, 2.3567914962768555, 1.6448819637298584, 1.231070876121521, 0.9653895497322083, 0.7791293263435364, 0.6339713931083679, 0.5375135540962219, 0.46897202730178833, 0.403186559677124, 0.34170758724212646, 0.29393014311790466, 0.2533170282840729, 0.2273043692111969, 0.20629949867725372, 0.18271291255950928, 0.15906845033168793, 0.14571258425712585, 0.12917377054691315, 0.11821120977401733, 0.1050148457288742, 0.0920613706111908, 0.08734448999166489, 0.07923590391874313, 0.07566289603710175, 0.06200714409351349, 0.05856749787926674, 0.05203799530863762, 0.049479540437459946, 0.0458468459546566, 0.04146125540137291, 0.03924906626343727, 0.03790505602955818, 0.030630428344011307, 0.03036915883421898, 0.026098867878317833, 0.025366410613059998, 0.023460805416107178, 0.02405346930027008, 0.020490940660238266, 0.02095026895403862, 0.019328055903315544, 0.015870226547122, 0.015352610498666763, 0.014899814501404762, 0.0137234628200531, 0.012423000298440456, 0.013036378659307957, 0.01264007668942213, 0.011484858579933643, 0.011003796942532063, 0.009768437594175339, 0.009735455736517906, 0.009304321371018887, 0.008471020497381687, 0.008816372603178024, 0.006525223609060049, 0.007433151360601187, 0.0068046581000089645, 0.006447437684983015, 0.00523481285199523, 0.006022890098392963, 0.00569327874109149, 0.004372762516140938, 0.004181177821010351, 0.0042774248868227005, 0.005840040743350983, 0.0040138703770935535, 0.0035314345732331276, 0.0033309480641037226, 0.004774787463247776, 0.004079216159880161, 0.0030848130118101835, 0.002783432835713029, 0.0031178086064755917, 0.003769750939682126, 0.0023722269106656313, 0.0022239128593355417, 0.002550967037677765, 0.0021760929375886917, 0.002142741810530424, 0.002131086541339755, 0.003245482686907053, 0.0023041414096951485, 0.003393626306205988, 0.0035453862510621548, 0.0023017232306301594, 0.00195799651555717, 0.0014089823234826326, 0.0019350916845723987, 0.001624346012249589, 0.002152335597202182, 0.002199396025389433, 0.0014835258480161428, 0.0015447074547410011, 0.0013765323674306273, 0.00131128984503448, 0.0015799292596057057, 0.0013862964697182178, 0.0013236243976280093, 0.001385875977575779, 0.0013095824979245663, 0.0012868550838902593, 0.0015070143854245543, 0.0010937496554106474, 0.001181165687739849, 0.001109453965909779, 0.0014503814745694399, 0.0020092197228223085, 0.0009917489951476455, 0.0010510600404813886, 0.0012295665219426155, 0.0014289868995547295, 0.0015422458527609706, 0.001099735265597701, 0.0010570777812972665, 0.0010819551534950733, 0.0009362242417410016, 0.0010821650503203273, 0.0009776722872629762], [0.1558378040790558, 0.4985344409942627, 0.6629213690757751, 0.7650219798088074, 0.8243771195411682, 0.8646799921989441, 0.8964338302612305, 0.9174401760101318, 0.9294089078903198, 0.9394235610961914, 0.9540791511535645, 0.964093804359436, 0.9692232608795166, 0.973375678062439, 0.9794821739196777, 0.9855886697769165, 0.985344409942627, 0.9855886697769165, 0.9907181262969971, 0.9892525672912598, 0.9921836853027344, 0.9941377639770508, 0.9953590631484985, 0.9938935041427612, 0.9941377639770508, 0.9980459213256836, 0.9975574016571045, 0.9985344409942627, 0.997801661491394, 0.9982901811599731, 0.9987787008285522, 0.9992672204971313, 0.9982901811599731, 0.9995114803314209, 0.9997557401657104, 0.9997557401657104, 0.9990229606628418, 0.9997557401657104, 0.9995114803314209, 0.9995114803314209, 0.9995114803314209, 0.9995114803314209, 0.9997557401657104, 0.9997557401657104, 1.0, 0.9997557401657104, 1.0, 0.9995114803314209, 0.9995114803314209, 0.9997557401657104, 0.9997557401657104, 0.9995114803314209, 0.9995114803314209, 0.9997557401657104, 0.9997557401657104, 0.9995114803314209, 0.9997557401657104, 0.9997557401657104, 0.9997557401657104, 0.9995114803314209, 1.0, 0.9992672204971313, 0.9995114803314209, 1.0, 1.0, 1.0, 0.9992672204971313, 0.9997557401657104, 1.0, 0.9997557401657104, 0.9997557401657104, 0.9995114803314209, 1.0, 1.0, 0.9997557401657104, 0.9997557401657104, 1.0, 1.0, 1.0, 1.0, 1.0, 0.9997557401657104, 0.9997557401657104, 0.9997557401657104, 0.9995114803314209, 0.9997557401657104, 0.9997557401657104, 0.9997557401657104, 1.0, 0.9997557401657104, 0.9997557401657104, 0.9997557401657104, 0.9997557401657104, 1.0, 0.9997557401657104, 1.0, 1.0, 1.0, 1.0, 1.0, 1.0, 1.0, 1.0, 0.9997557401657104, 1.0, 1.0, 1.0, 0.9997557401657104, 0.9995114803314209, 1.0, 1.0, 1.0, 0.9995114803314209, 0.9997557401657104, 1.0, 1.0, 1.0, 1.0, 1.0, 1.0], [2.7548255920410156, 1.8698618412017822, 1.4462674856185913, 1.1799722909927368, 0.9994950890541077, 0.8687167167663574, 0.7687432765960693, 0.689835250377655, 0.628446102142334, 0.5793552398681641, 0.5393384099006653, 0.5035934448242188, 0.4757463335990906, 0.4493301212787628, 0.4296703636646271, 0.41404998302459717, 0.3964708149433136, 0.3827672004699707, 0.3693639934062958, 0.35897570848464966, 0.3493894040584564, 0.340977281332016, 0.33254292607307434, 0.3279922306537628, 0.3213379979133606, 0.31591418385505676, 0.3097774088382721, 0.3025968670845032, 0.2971835136413574, 0.2934732437133789, 0.2896493375301361, 0.28660088777542114, 0.28530776500701904, 0.27883589267730713, 0.2773316204547882, 0.2727363407611847, 0.27285245060920715, 0.2731570899486542, 0.2711571455001831, 0.26871734857559204, 0.2651574909687042, 0.26285603642463684, 0.25871264934539795, 0.2583317458629608, 0.25629863142967224, 0.2547662854194641, 0.2560961842536926, 0.2515122592449188, 0.25254344940185547, 0.2513563334941864, 0.24871782958507538, 0.24527974426746368, 0.2461041361093521, 0.2440771758556366, 0.24508628249168396, 0.24106459319591522, 0.2511272132396698, 0.24147041141986847, 0.23949649930000305, 0.23913335800170898, 0.24024660885334015, 0.23956727981567383, 0.24005019664764404, 0.23898287117481232, 0.24098865687847137, 0.23812025785446167, 0.2398337721824646, 0.23951618373394012, 0.23497937619686127, 0.2338082641363144, 0.23664572834968567, 0.23452086746692657, 0.23361973464488983, 0.2374606877565384, 0.23350612819194794, 0.23698236048221588, 0.23508551716804504, 0.237605020403862, 0.23958757519721985, 0.23345966637134552, 0.23789997398853302, 0.2398747056722641, 0.2370360791683197, 0.24324257671833038, 0.23349888622760773, 0.233613982796669, 0.23425140976905823, 0.2346397340297699, 0.23431159555912018, 0.23397132754325867, 0.23326192796230316, 0.23312795162200928, 0.23299455642700195, 0.23327796161174774, 0.23264287412166595, 0.2324303835630417, 0.2330002337694168, 0.2329348474740982, 0.23227594792842865, 0.23226334154605865, 0.23069600760936737, 0.23096740245819092, 0.2311747819185257, 0.23185789585113525, 0.23102575540542603, 0.23040559887886047, 0.23052316904067993, 0.23026970028877258, 0.23078790307044983, 0.23133768141269684, 0.2312517613172531, 0.23217551410198212, 0.23121441900730133, 0.2309279590845108, 0.23036231100559235, 0.23132513463497162, 0.2328229397535324, 0.23261822760105133, 0.23247498273849487, 0.23206846415996552], [0.3898387849330902, 0.6355642676353455, 0.7254518866539001, 0.7806546092033386, 0.8202247023582458, 0.8461162447929382, 0.8646799921989441, 0.8768930435180664, 0.884709358215332, 0.8954567909240723, 0.8974108695983887, 0.9027845859527588, 0.9081583023071289, 0.9110894203186035, 0.9145090579986572, 0.913532018661499, 0.9159746170043945, 0.9198827743530273, 0.922813892364502, 0.9213483333587646, 0.9213483333587646, 0.9213483333587646, 0.9223253726959229, 0.9247679710388184, 0.9247679710388184, 0.9242794513702393, 0.9281876087188721, 0.9262335300445557, 0.9272105693817139, 0.9291646480560303, 0.9301416873931885, 0.9291646480560303, 0.9267220497131348, 0.9291646480560303, 0.9262335300445557, 0.9272105693817139, 0.9267220497131348, 0.9267220497131348, 0.9311187267303467, 0.9301416873931885, 0.932584285736084, 0.9281876087188721, 0.9291646480560303, 0.9291646480560303, 0.932584285736084, 0.9316072463989258, 0.9296531677246094, 0.9340498447418213, 0.9345383644104004, 0.9330728054046631, 0.9340498447418213, 0.937469482421875, 0.9345383644104004, 0.9350268840789795, 0.9340498447418213, 0.9360039234161377, 0.9306302070617676, 0.9345383644104004, 0.9369809627532959, 0.937469482421875, 0.9369809627532959, 0.937469482421875, 0.9364924430847168, 0.9369809627532959, 0.9335613250732422, 0.9384465217590332, 0.937469482421875, 0.9369809627532959, 0.9394235610961914, 0.9379580020904541, 0.9384465217590332, 0.9355154037475586, 0.9384465217590332, 0.9355154037475586, 0.9389350414276123, 0.9379580020904541, 0.9389350414276123, 0.9364924430847168, 0.9330728054046631, 0.9369809627532959, 0.9364924430847168, 0.9345383644104004, 0.937469482421875, 0.932584285736084, 0.937469482421875, 0.937469482421875, 0.9379580020904541, 0.9379580020904541, 0.9384465217590332, 0.9389350414276123, 0.9394235610961914, 0.9389350414276123, 0.9384465217590332, 0.9379580020904541, 0.9379580020904541, 0.9379580020904541, 0.9384465217590332, 0.9379580020904541, 0.9379580020904541, 0.9379580020904541, 0.9379580020904541, 0.937469482421875, 0.937469482421875, 0.937469482421875, 0.9389350414276123, 0.9389350414276123, 0.9389350414276123, 0.9384465217590332, 0.9389350414276123, 0.937469482421875, 0.937469482421875, 0.9379580020904541, 0.9384465217590332, 0.9394235610961914, 0.9394235610961914, 0.937469482421875, 0.937469482421875, 0.937469482421875, 0.937469482421875, 0.937469482421875], [1e-04, 1e-04, 1e-04, 1e-04, 1e-04, 1e-04, 1e-04, 1e-04, 1e-04, 1e-04, 1e-04, 1e-04, 1e-04, 1e-04, 1e-04, 1e-04, 1e-04, 1e-04, 1e-04, 1e-04, 1e-04, 1e-04, 1e-04, 1e-04, 1e-04, 1e-04, 1e-04, 1e-04, 1e-04, 1e-04, 1e-04, 1e-04, 1e-04, 1e-04, 1e-04, 1e-04, 1e-04, 1e-04, 1e-04, 1e-04, 1e-04, 1e-04, 1e-04, 1e-04, 1e-04, 1e-04, 1e-04, 1e-04, 1e-04, 1e-04, 1e-04, 1e-04, 1e-04, 1e-04, 1e-04, 1e-04, 1e-04, 1e-04, 1e-04, 1e-04, 1e-04, 1e-04, 1e-04, 1e-04, 1e-04, 1e-04, 1e-04, 1e-04, 1e-04, 1e-04, 1e-04, 1e-04, 1e-04, 1e-04, 1e-04, 1e-04, 1e-04, 1e-04, 1e-04, 1e-04, 1e-04, 1e-04, 1e-04, 1e-04, 1e-04, 1e-05, 1e-05, 1e-05, 1e-05, 1e-05, 1e-05, 1e-05, 1e-05, 1e-05, 1e-05, 1e-05, 1e-05, 1e-05, 1e-05, 1e-05, 1e-05, 1e-05, 1e-05, 1e-05, 1e-05, 1e-05, 1e-05, 1e-05, 1e-05, 1e-05, 1e-05, 1e-05, 1e-05, 1e-05, 1e-05, 1e-05, 1e-05, 1e-05, 1e-06, 1e-06]])\n"
          ]
        }
      ]
    },
    {
      "cell_type": "code",
      "source": [
        "del X_train"
      ],
      "metadata": {
        "id": "AdCK9Hdiy-Pa"
      },
      "execution_count": 12,
      "outputs": []
    },
    {
      "cell_type": "code",
      "source": [
        "# as mentioned in the ALTERNATIVE above, after the run the saved models are loaded to predict the test accuracy and loss every 10th epoch \n",
        "for i in range(10, num_epochs+1, 10):\n",
        "  final_model = load_model(f'{model_file_prefix}_epoch_{i:03d}.h5')\n",
        "  scores = final_model.evaluate(X_test,y_test)\n",
        "  history_test['test_loss'].append(scores[0])\n",
        "  history_test['test_accuracy'].append(scores[1])\n"
      ],
      "metadata": {
        "colab": {
          "base_uri": "https://localhost:8080/"
        },
        "id": "4Gmgnf18Jag_",
        "outputId": "1516574d-9ee8-4b96-da5a-1c118a82dac6"
      },
      "execution_count": 13,
      "outputs": [
        {
          "output_type": "stream",
          "name": "stdout",
          "text": [
            "64/64 [==============================] - 11s 164ms/step - loss: 0.5615 - accuracy: 0.8877\n",
            "64/64 [==============================] - 13s 206ms/step - loss: 0.3552 - accuracy: 0.9199\n",
            "64/64 [==============================] - 13s 207ms/step - loss: 0.2958 - accuracy: 0.9258\n",
            "64/64 [==============================] - 11s 163ms/step - loss: 0.2749 - accuracy: 0.9277\n",
            "64/64 [==============================] - 11s 163ms/step - loss: 0.2602 - accuracy: 0.9292\n",
            "64/64 [==============================] - 11s 164ms/step - loss: 0.2525 - accuracy: 0.9287\n",
            "64/64 [==============================] - 11s 163ms/step - loss: 0.2494 - accuracy: 0.9312\n",
            "64/64 [==============================] - 11s 164ms/step - loss: 0.2440 - accuracy: 0.9307\n",
            "64/64 [==============================] - 11s 164ms/step - loss: 0.2453 - accuracy: 0.9331\n",
            "64/64 [==============================] - 11s 163ms/step - loss: 0.2452 - accuracy: 0.9321\n",
            "64/64 [==============================] - 11s 163ms/step - loss: 0.2443 - accuracy: 0.9307\n",
            "64/64 [==============================] - 13s 207ms/step - loss: 0.2439 - accuracy: 0.9326\n"
          ]
        }
      ]
    },
    {
      "cell_type": "code",
      "source": [
        "plot_data = {}\n",
        "\n",
        "plot_data_keys = list(history.history.keys())\n",
        "#plot_data_keys = ['loss', 'accuracy', 'val_loss', 'val_accuracy', 'lr']\n",
        "plot_data_values = list(history.history.values())\n",
        "#plot_data_values = [lss0,acc0,lss,acc,[]]\n",
        "\n",
        "for i in range(len(plot_data_keys)):\n",
        "  plot_data[plot_data_keys[i]] = plot_data_values[i]\n",
        "  "
      ],
      "metadata": {
        "id": "KyejtHjwMGK5"
      },
      "execution_count": 15,
      "outputs": []
    },
    {
      "cell_type": "code",
      "source": [
        "# best model predictions\n",
        "final_model = load_model(model_file_prefix + '_best_model.h5')\n",
        "scores = final_model.evaluate(X_test,y_test)\n",
        "print(scores)\n",
        "\n",
        "best_epic_number = 69\n",
        "\n",
        "# will be used in the plot"
      ],
      "metadata": {
        "id": "D0ng8ImXZsCX",
        "colab": {
          "base_uri": "https://localhost:8080/"
        },
        "outputId": "04491297-7702-44ef-a192-388421ba7bd9"
      },
      "execution_count": 16,
      "outputs": [
        {
          "output_type": "stream",
          "name": "stdout",
          "text": [
            "64/64 [==============================] - 13s 206ms/step - loss: 0.2490 - accuracy: 0.9312\n",
            "[0.24896840751171112, 0.93115234375]\n"
          ]
        }
      ]
    },
    {
      "cell_type": "code",
      "execution_count": 17,
      "metadata": {
        "id": "EHYcZeu8j-mM",
        "colab": {
          "base_uri": "https://localhost:8080/",
          "height": 899
        },
        "outputId": "8e26b40d-7653-4510-873a-02a391253217"
      },
      "outputs": [
        {
          "output_type": "display_data",
          "data": {
            "text/plain": [
              "<Figure size 720x504 with 1 Axes>"
            ],
            "image/png": "[encoded data removed]"
          },
          "metadata": {
            "needs_background": "light"
          }
        },
        {
          "output_type": "display_data",
          "data": {
            "text/plain": [
              "<Figure size 720x504 with 1 Axes>"
            ],
            "image/png": "[encoded data removed]"
          },
          "metadata": {
            "needs_background": "light"
          }
        }
      ],
      "source": [
        "num_of_x_values = len(plot_data_values[0])\n",
        "\n",
        "# summarize history for accuracy\n",
        "fig = plt.figure(figsize = (10, 7))\n",
        "plt.plot(np.arange(1,num_of_x_values+1), plot_data['accuracy'])\n",
        "plt.plot(np.arange(1,num_of_x_values+1), plot_data['val_accuracy'])\n",
        "plt.scatter(np.arange(10,num_of_x_values+1, 10), history_test['test_accuracy'], s=50, color='green')\n",
        "plt.scatter([best_epic_number], scores[1], s=50, color='green', marker='x')\n",
        "\n",
        "\n",
        "plt.title('Accuracy per Epoch')\n",
        "plt.ylabel('Accuracy')\n",
        "plt.xlabel('Epoch')\n",
        "plt.xticks(np.arange(0,num_of_x_values+1,10))\n",
        "\n",
        "plt.legend(['train', 'validation', 'test', 'best'], loc='lower right')\n",
        "plt.show()\n",
        "\n",
        "# summarize history for loss\n",
        "fig = plt.figure(figsize = (10, 7))\n",
        "plt.plot(np.arange(1,num_of_x_values+1), plot_data['loss'])\n",
        "plt.plot(np.arange(1,num_of_x_values+1), plot_data['val_loss'])\n",
        "plt.scatter(np.arange(10,num_of_x_values+1, 10), history_test['test_loss'], s=50, color='green')\n",
        "plt.scatter([best_epic_number], scores[0], s=50, color='green', marker='x')\n",
        "\n",
        "plt.title('Loss per Epoch')\n",
        "plt.ylabel('MSE')\n",
        "plt.xlabel('Epoch')\n",
        "#plt.xticks(np.arange(1,len(history.epoch)+1))\n",
        "plt.xticks(np.arange(0,num_of_x_values+1,10))\n",
        "plt.legend(['train', 'validation', 'test', 'best'], loc='upper right')\n",
        "plt.show()\n"
      ]
    },
    {
      "cell_type": "code",
      "source": [
        "model.summary()\n"
      ],
      "metadata": {
        "colab": {
          "base_uri": "https://localhost:8080/"
        },
        "id": "sjf-l0PK8jW3",
        "outputId": "0963ece2-f5c8-4e6f-d5c3-60096c7be610"
      },
      "execution_count": 9,
      "outputs": [
        {
          "output_type": "stream",
          "name": "stdout",
          "text": [
            "Model: \"model\"\n",
            "_________________________________________________________________\n",
            " Layer (type)                Output Shape              Param #   \n",
            "=================================================================\n",
            " input_2 (InputLayer)        [(None, 299, 299, 3)]     0         \n",
            "                                                                 \n",
            " vgg19 (Functional)          (None, 9, 9, 512)         20024384  \n",
            "                                                                 \n",
            " global_average_pooling2d (G  (None, 512)              0         \n",
            " lobalAveragePooling2D)                                          \n",
            "                                                                 \n",
            " dense (Dense)               (None, 1024)              525312    \n",
            "                                                                 \n",
            " batch_normalization (BatchN  (None, 1024)             4096      \n",
            " ormalization)                                                   \n",
            "                                                                 \n",
            " activation (Activation)     (None, 1024)              0         \n",
            "                                                                 \n",
            " dropout (Dropout)           (None, 1024)              0         \n",
            "                                                                 \n",
            " dense_1 (Dense)             (None, 102)               104550    \n",
            "                                                                 \n",
            "=================================================================\n",
            "Total params: 20,658,342\n",
            "Trainable params: 631,910\n",
            "Non-trainable params: 20,026,432\n",
            "_________________________________________________________________\n"
          ]
        }
      ]
    },
    {
      "cell_type": "markdown",
      "metadata": {
        "id": "F4gkG0dRPJ1a"
      },
      "source": [
        "#Extracting the 102Flowers dataset labels"
      ]
    },
    {
      "cell_type": "code",
      "execution_count": 66,
      "metadata": {
        "id": "GPLs82D3NkXK",
        "colab": {
          "base_uri": "https://localhost:8080/"
        },
        "outputId": "879b2782-699e-4fe4-e0cf-74093920d453"
      },
      "outputs": [
        {
          "output_type": "execute_result",
          "data": {
            "text/plain": [
              "502"
            ]
          },
          "metadata": {},
          "execution_count": 66
        }
      ],
      "source": [
        "URL = \"https://www.robots.ox.ac.uk/~vgg/data/flowers/102/imagelabels.mat\"\n",
        "\n",
        "# 1. Import the requests library\n",
        "import requests\n",
        "\n",
        "# 2. download the data behind the URL\n",
        "response = requests.get(URL)\n",
        "# 3. Open the response into a new file called instagram.ico\n",
        "open(\"my_lables.mat\", \"wb\").write(response.content)\n"
      ]
    },
    {
      "cell_type": "code",
      "execution_count": 67,
      "metadata": {
        "id": "8Zg_dhvzORcn"
      },
      "outputs": [],
      "source": [
        "import scipy.io\n",
        "mat = scipy.io.loadmat('my_lables.mat')"
      ]
    },
    {
      "cell_type": "code",
      "execution_count": 68,
      "metadata": {
        "id": "AWSVmAo0OVjG",
        "colab": {
          "base_uri": "https://localhost:8080/"
        },
        "outputId": "28e3e7fb-6a9d-4436-8974-725b4d958134"
      },
      "outputs": [
        {
          "output_type": "execute_result",
          "data": {
            "text/plain": [
              "{'__globals__': [],\n",
              " '__header__': b'MATLAB 5.0 MAT-file, Platform: GLNX86, Created on: Thu Feb 19 15:43:33 2009',\n",
              " '__version__': '1.0',\n",
              " 'labels': array([[77, 77, 77, ..., 62, 62, 62]], dtype=uint8)}"
            ]
          },
          "metadata": {},
          "execution_count": 68
        }
      ],
      "source": [
        "mat"
      ]
    },
    {
      "cell_type": "code",
      "execution_count": null,
      "metadata": {
        "id": "TYwqp8aDp4Dd"
      },
      "outputs": [],
      "source": [
        "df = pd.DataFrame(mat['labels'].T)\n",
        "df"
      ]
    },
    {
      "cell_type": "code",
      "execution_count": 65,
      "metadata": {
        "id": "0rIjiDvJObef"
      },
      "outputs": [],
      "source": [
        "import pandas as pd\n",
        "df = pd.DataFrame(mat['labels'].T)\n",
        "df.to_csv('102Flowers_labels.csv')"
      ]
    }
  ],
  "metadata": {
    "accelerator": "GPU",
    "colab": {
      "collapsed_sections": [
        "F4gkG0dRPJ1a"
      ],
      "machine_shape": "hm",
      "name": "CNN-FINAL.ipynb",
      "provenance": [],
      "authorship_tag": "ABX9TyMxe4+jJI038lXGJPehmRGh"
    },
    "gpuClass": "standard",
    "kernelspec": {
      "display_name": "Python 3",
      "name": "python3"
    },
    "language_info": {
      "name": "python"
    }
  },
  "nbformat": 4,
  "nbformat_minor": 0
}